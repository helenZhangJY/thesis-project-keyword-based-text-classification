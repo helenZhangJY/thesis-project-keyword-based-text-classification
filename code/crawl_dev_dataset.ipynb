{
 "cells": [
  {
   "cell_type": "code",
   "execution_count": 1,
   "id": "282ac2cc-1f76-4496-9a25-1f387a0ed80e",
   "metadata": {},
   "outputs": [],
   "source": [
    "import requests \n",
    "import html5lib\n",
    "import re\n",
    "import csv\n",
    "from bs4 import BeautifulSoup"
   ]
  },
  {
   "cell_type": "code",
   "execution_count": 2,
   "id": "efb31162-08c7-44f9-b2de-43fca32e0467",
   "metadata": {},
   "outputs": [],
   "source": [
    "# extract relevant content from url\n",
    "def url_to_string(url):\n",
    "    \"\"\"\n",
    "    Utility function to get the raw text from a web page.  \n",
    "    It takes a URL string as input and returns the text.\n",
    "    \"\"\"\n",
    "    res = requests.get(url)\n",
    "    html = res.text\n",
    "    parser_content = BeautifulSoup(html, 'html5lib')\n",
    "    # loop for content, only select the content we need\n",
    "    for part in parser_content.select('div[class*=\"isite-content\"]'):\n",
    "        content = part.get_text()\n",
    "\n",
    "    return content"
   ]
  },
  {
   "cell_type": "code",
   "execution_count": 3,
   "id": "5a72e0a7-a1d3-44b0-a444-bd0f24a20745",
   "metadata": {},
   "outputs": [],
   "source": [
    "def crawl_mutiple_pages(base_url,pages):\n",
    "    content_list = []\n",
    "    for i in range(1,pages):\n",
    "        url=base_url+str(i)\n",
    "        list1=[]\n",
    "        content = url_to_string(url)\n",
    "        list1.append(content)\n",
    "        content_list.append(list1)\n",
    "    return content_list"
   ]
  },
  {
   "cell_type": "code",
   "execution_count": 4,
   "id": "a29537c1-e9c3-4d16-bedd-66b0ec96f4ac",
   "metadata": {},
   "outputs": [],
   "source": [
    "def write_to_csv(base_url,pages):\n",
    "    content_list=crawl_mutiple_pages(base_url,pages)\n",
    "    outfilename = \"dev_data.csv\"\n",
    "    with open(outfilename,\"a\",newline='') as outfile:    \n",
    "        write = csv.writer(outfile)\n",
    "        write.writerows(content_list)\n",
    "  "
   ]
  },
  {
   "cell_type": "code",
   "execution_count": 5,
   "id": "95f7f372-53fb-4e0a-abb5-5290f4a8b9df",
   "metadata": {},
   "outputs": [],
   "source": [
    "#statement of matter\n",
    "write_to_csv('https://www.bbc.co.uk/bitesize/guides/ztb3h39/revision/',10)"
   ]
  },
  {
   "cell_type": "code",
   "execution_count": 6,
   "id": "a3216484-d0dd-4ceb-95ee-9f171df68355",
   "metadata": {
    "jupyter": {
     "source_hidden": true
    },
    "tags": []
   },
   "outputs": [],
   "source": [
    "#atomic structure\n",
    "write_to_csv('https://www.bbc.co.uk/bitesize/guides/ztgbpbk/revision/',6)"
   ]
  },
  {
   "cell_type": "code",
   "execution_count": 7,
   "id": "a64f83fe-4779-4569-b5b8-d481c4cb46b7",
   "metadata": {},
   "outputs": [],
   "source": [
    "#Cells in animals and plants\n",
    "write_to_csv('https://www.bbc.co.uk/bitesize/guides/zwnp7p3/revision/',11)"
   ]
  },
  {
   "cell_type": "code",
   "execution_count": 8,
   "id": "01e58dc4-d3eb-4a40-b732-87c53b8e8f64",
   "metadata": {},
   "outputs": [],
   "source": [
    "#Transport into and out of cells\n",
    "write_to_csv('https://www.bbc.co.uk/bitesize/guides/ztrgng8/revision/',9)"
   ]
  },
  {
   "cell_type": "code",
   "execution_count": 9,
   "id": "e60ab02a-c1ad-436d-95d1-a97a61f3f5ec",
   "metadata": {},
   "outputs": [],
   "source": [
    "#Cell division\n",
    "write_to_csv('https://www.bbc.co.uk/bitesize/guides/z3qjcj6/revision/',5)"
   ]
  },
  {
   "cell_type": "code",
   "execution_count": 10,
   "id": "669343e9-c64f-424d-8119-d8ec2dc29fe5",
   "metadata": {},
   "outputs": [],
   "source": [
    "#Waves\n",
    "write_to_csv('https://www.bbc.co.uk/bitesize/guides/zxrgng8/revision/',10)"
   ]
  },
  {
   "cell_type": "code",
   "execution_count": 11,
   "id": "4d5278f3-774a-40d4-be1b-41dfdc5ecd6a",
   "metadata": {},
   "outputs": [],
   "source": [
    "#Respiration\n",
    "write_to_csv('https://www.bbc.co.uk/bitesize/guides/z32797h/revision/',4)"
   ]
  },
  {
   "cell_type": "code",
   "execution_count": 12,
   "id": "8ded8754-d9a0-423d-900b-d2899a808143",
   "metadata": {},
   "outputs": [],
   "source": [
    "#Exchange surfaces and transport systems\n",
    "write_to_csv('https://www.bbc.co.uk/bitesize/guides/zwyfxfr/revision/',9)"
   ]
  },
  {
   "cell_type": "code",
   "execution_count": 13,
   "id": "3ed44ecd-42b2-4c8b-b4d8-0b6ab090ddcd",
   "metadata": {},
   "outputs": [],
   "source": [
    "#The digestive system\n",
    "write_to_csv('https://www.bbc.co.uk/bitesize/guides/zxcrsrd/revision/',6)"
   ]
  },
  {
   "cell_type": "code",
   "execution_count": 14,
   "id": "2cf8d970-e2a5-4664-98bc-1069e782c944",
   "metadata": {},
   "outputs": [],
   "source": [
    "#Coordination and control\n",
    "write_to_csv('https://www.bbc.co.uk/bitesize/guides/zg6xdxs/revision/',7)"
   ]
  },
  {
   "cell_type": "code",
   "execution_count": 15,
   "id": "85f1443f-a2bf-476f-9734-5b916fa55f1b",
   "metadata": {},
   "outputs": [],
   "source": [
    "#Plant organisation\n",
    "write_to_csv('https://www.bbc.co.uk/bitesize/guides/ztk9v9q/revision/',8)"
   ]
  },
  {
   "cell_type": "code",
   "execution_count": 16,
   "id": "44dc7bf9-c65e-4b24-b9bb-0f09a4a4aad3",
   "metadata": {},
   "outputs": [],
   "source": [
    "#Photosynthesis\n",
    "write_to_csv('https://www.bbc.co.uk/bitesize/guides/zcphqhv/revision/',9)"
   ]
  },
  {
   "cell_type": "code",
   "execution_count": 17,
   "id": "d8355514-eba6-4e87-98bf-9b8d9e46b2f1",
   "metadata": {},
   "outputs": [],
   "source": [
    "#Plant diseases\n",
    "write_to_csv('https://www.bbc.co.uk/bitesize/guides/zx94y4j/revision/',3)"
   ]
  },
  {
   "cell_type": "code",
   "execution_count": 18,
   "id": "b2f93b0c-e7e1-4e25-9a8c-9ce3a6905188",
   "metadata": {},
   "outputs": [],
   "source": [
    "#Lifestyle and health\n",
    "write_to_csv('https://www.bbc.co.uk/bitesize/guides/zy2797h/revision/',10)"
   ]
  },
  {
   "cell_type": "code",
   "execution_count": 19,
   "id": "45f9d555-23a0-4821-a135-37ea8b3b9ece",
   "metadata": {},
   "outputs": [],
   "source": [
    "#Homeostasis\n",
    "write_to_csv('https://www.bbc.co.uk/bitesize/guides/zc8qdxs/revision/',6)"
   ]
  },
  {
   "cell_type": "code",
   "execution_count": 20,
   "id": "ecf62de0-e7d1-4178-891b-f97e8fe1a985",
   "metadata": {},
   "outputs": [],
   "source": [
    "#Reproduction and fertility\n",
    "write_to_csv('https://www.bbc.co.uk/bitesize/guides/zcnp7p3/revision/',5)"
   ]
  },
  {
   "cell_type": "code",
   "execution_count": 21,
   "id": "6c808be7-fb0a-435d-b755-d80d7eb11dd4",
   "metadata": {},
   "outputs": [],
   "source": [
    "#Radiation and risk\n",
    "write_to_csv('https://www.bbc.co.uk/bitesize/guides/zwb3h39/revision/',9)"
   ]
  },
  {
   "cell_type": "code",
   "execution_count": 22,
   "id": "9416bb66-9b92-4f47-8b34-6f750f5845f0",
   "metadata": {},
   "outputs": [],
   "source": [
    "#Preventing, treating and curing diseases\n",
    "write_to_csv('https://www.bbc.co.uk/bitesize/guides/zxk9v9q/revision/',10)"
   ]
  },
  {
   "cell_type": "code",
   "execution_count": 23,
   "id": "8893817d-f33c-4464-905b-7130a3b49d24",
   "metadata": {},
   "outputs": [],
   "source": [
    "#The atmosphere\n",
    "write_to_csv('https://www.bbc.co.uk/bitesize/guides/zym2k2p/revision/',8)"
   ]
  },
  {
   "cell_type": "code",
   "execution_count": 24,
   "id": "fa47c777-e008-491d-930e-a5bbe5a6679e",
   "metadata": {},
   "outputs": [],
   "source": [
    "#Water\n",
    "write_to_csv('https://www.bbc.co.uk/bitesize/guides/zcsn2nb/revision/',6)"
   ]
  },
  {
   "cell_type": "code",
   "execution_count": 25,
   "id": "062f16b4-6f5b-4e12-8dab-e9e00245bbbc",
   "metadata": {},
   "outputs": [],
   "source": [
    "#Ecosystems and biodiversity\n",
    "write_to_csv('https://www.bbc.co.uk/bitesize/guides/zwgbpbk/revision/',11)"
   ]
  },
  {
   "cell_type": "code",
   "execution_count": 26,
   "id": "54d101ee-f337-4f6a-aeb6-c7318e8cc869",
   "metadata": {},
   "outputs": [],
   "source": [
    "#Inheritance\n",
    "write_to_csv('https://www.bbc.co.uk/bitesize/guides/ztwdgdm/revision/',8)"
   ]
  },
  {
   "cell_type": "code",
   "execution_count": 27,
   "id": "3c2d1bc1-fdb9-4186-bbce-8e80f54b0564",
   "metadata": {},
   "outputs": [],
   "source": [
    "#Evolution\n",
    "write_to_csv('https://www.bbc.co.uk/bitesize/guides/zyxm8mn/revision/',10)"
   ]
  },
  {
   "cell_type": "code",
   "execution_count": 28,
   "id": "6882a3aa-89be-4633-b03b-8cef0163e02f",
   "metadata": {},
   "outputs": [],
   "source": [
    "#The periodic table\n",
    "write_to_csv('https://www.bbc.co.uk/bitesize/guides/z8b3h39/revision/',5)"
   ]
  },
  {
   "cell_type": "code",
   "execution_count": 29,
   "id": "41f7df50-cbf3-43ed-8eea-3b894d034d0c",
   "metadata": {},
   "outputs": [],
   "source": [
    "#Groups in the periodic table\n",
    "write_to_csv('https://www.bbc.co.uk/bitesize/guides/z2k9v9q/revision/',6)"
   ]
  },
  {
   "cell_type": "code",
   "execution_count": 30,
   "id": "7aef1373-a96b-4ad9-817e-38231723ef80",
   "metadata": {},
   "outputs": [],
   "source": [
    "#Chemical equations\n",
    "write_to_csv('https://www.bbc.co.uk/bitesize/guides/zsm2k2p/revision/',7)"
   ]
  },
  {
   "cell_type": "code",
   "execution_count": 31,
   "id": "c5f2ceba-919b-4918-818f-eb2ce2a8b818",
   "metadata": {},
   "outputs": [],
   "source": [
    "#Calculations in chemistry\n",
    "write_to_csv('https://www.bbc.co.uk/bitesize/guides/zgsn2nb/revision/',8)"
   ]
  },
  {
   "cell_type": "code",
   "execution_count": 32,
   "id": "3232bacd-0a7e-40db-9426-a9368e04341d",
   "metadata": {},
   "outputs": [],
   "source": [
    "#Forces\n",
    "write_to_csv('https://www.bbc.co.uk/bitesize/guides/zq94y4j/revision/',5)"
   ]
  },
  {
   "cell_type": "code",
   "execution_count": 33,
   "id": "2f5c524a-8fc9-4d9c-8a02-428729f8e54a",
   "metadata": {},
   "outputs": [],
   "source": [
    "#Energy changes\n",
    "write_to_csv('https://www.bbc.co.uk/bitesize/guides/ztqjcj6/revision/',7)"
   ]
  },
  {
   "cell_type": "code",
   "execution_count": 34,
   "id": "f7f4bfa2-4697-4c15-a11b-111517ee694c",
   "metadata": {},
   "outputs": [],
   "source": [
    "#Ionic compounds\n",
    "write_to_csv('https://www.bbc.co.uk/bitesize/guides/zyt6w6f/revision/',5)"
   ]
  },
  {
   "cell_type": "code",
   "execution_count": 35,
   "id": "0790893a-2cbc-4a6e-ae5f-c6a41de0a203",
   "metadata": {},
   "outputs": [],
   "source": [
    "#Covalent bonding\n",
    "write_to_csv('https://www.bbc.co.uk/bitesize/guides/zcvy6yc/revision/',6)"
   ]
  },
  {
   "cell_type": "code",
   "execution_count": 36,
   "id": "56a33adf-a805-47bd-9d0e-e3c191c53414",
   "metadata": {},
   "outputs": [],
   "source": [
    "#Metals\n",
    "write_to_csv('https://www.bbc.co.uk/bitesize/guides/zqk9v9q/revision/',3)"
   ]
  },
  {
   "cell_type": "code",
   "execution_count": 37,
   "id": "839d0d53-ec1e-4e98-96f6-b55dc83c69ae",
   "metadata": {},
   "outputs": [],
   "source": [
    "#Magnetism and electromagnetism\n",
    "write_to_csv('https://www.bbc.co.uk/bitesize/guides/zpm2k2p/revision/',8)"
   ]
  },
  {
   "cell_type": "code",
   "execution_count": 38,
   "id": "67fdd5b0-9a2d-440a-af86-34c619df8922",
   "metadata": {},
   "outputs": [],
   "source": [
    "#Motion\n",
    "write_to_csv('https://www.bbc.co.uk/bitesize/guides/z3sn2nb/revision/',7)"
   ]
  },
  {
   "cell_type": "code",
   "execution_count": 39,
   "id": "e9a1089f-a5d2-43d6-8e44-d73c42045534",
   "metadata": {},
   "outputs": [],
   "source": [
    "#Newton's laws\n",
    "write_to_csv('https://www.bbc.co.uk/bitesize/guides/z8crsrd/revision/',10)"
   ]
  },
  {
   "cell_type": "code",
   "execution_count": 40,
   "id": "ac6b12b2-1c82-4587-8041-ba4b73abb6ce",
   "metadata": {},
   "outputs": [],
   "source": [
    "#Circuits\n",
    "write_to_csv('https://www.bbc.co.uk/bitesize/guides/zt2797h/revision/',9)"
   ]
  },
  {
   "cell_type": "code",
   "execution_count": 41,
   "id": "7e7ee7a2-b259-4bfc-beeb-f182c8d72efd",
   "metadata": {},
   "outputs": [],
   "source": [
    "#Mains electricity\n",
    "write_to_csv('https://www.bbc.co.uk/bitesize/guides/z3fsmsg/revision/',8)"
   ]
  },
  {
   "cell_type": "code",
   "execution_count": 42,
   "id": "a04f78c8-15e0-4a5a-bfd1-efad123b7166",
   "metadata": {},
   "outputs": [],
   "source": [
    "#Acids and alkalis\n",
    "write_to_csv('https://www.bbc.co.uk/bitesize/guides/zqd8b82/revision/',11)"
   ]
  },
  {
   "cell_type": "code",
   "execution_count": 43,
   "id": "330502ab-6e71-485c-8752-d65c5aad04e0",
   "metadata": {},
   "outputs": [],
   "source": [
    "#Rates of reaction\n",
    "write_to_csv('https://www.bbc.co.uk/bitesize/guides/zp6xdxs/revision/',7)"
   ]
  },
  {
   "cell_type": "code",
   "execution_count": 44,
   "id": "9a7cf753-09a8-4434-97bb-8c9fda7ba4ff",
   "metadata": {},
   "outputs": [],
   "source": [
    "#Energy, rates and reactions\n",
    "write_to_csv('https://www.bbc.co.uk/bitesize/guides/zg3vtv4/revision/',7)"
   ]
  },
  {
   "cell_type": "code",
   "execution_count": 45,
   "id": "a22da1a2-acbf-4cc0-b0aa-9b91a1d7a5d4",
   "metadata": {},
   "outputs": [],
   "source": [
    "#Equilibria\n",
    "write_to_csv('https://www.bbc.co.uk/bitesize/guides/zw8k3k7/revision/',3)"
   ]
  },
  {
   "cell_type": "code",
   "execution_count": 46,
   "id": "2c84a784-0fe5-4bb8-8fd5-6f98e00d3a4d",
   "metadata": {},
   "outputs": [],
   "source": [
    "#Electrons and chemical reactions\n",
    "write_to_csv('https://www.bbc.co.uk/bitesize/guides/zx2797h/revision/',7)"
   ]
  },
  {
   "cell_type": "code",
   "execution_count": 47,
   "id": "5cd4bc78-03a3-4780-b93b-7a4b4d15666d",
   "metadata": {},
   "outputs": [],
   "source": [
    "#Carbon chemistry\n",
    "write_to_csv('https://www.bbc.co.uk/bitesize/guides/zsphqhv/revision/',8)"
   ]
  },
  {
   "cell_type": "code",
   "execution_count": 48,
   "id": "aa6abb26-a10f-4957-9510-d95c4142b6e1",
   "metadata": {},
   "outputs": [],
   "source": [
    "#Material resources\n",
    "write_to_csv('https://www.bbc.co.uk/bitesize/guides/zgb3h39/revision/',6)"
   ]
  },
  {
   "cell_type": "code",
   "execution_count": 49,
   "id": "eb9d94e6-dac4-42fb-9eec-a328418ba8cd",
   "metadata": {},
   "outputs": [],
   "source": [
    "#Energy resources\n",
    "write_to_csv('https://www.bbc.co.uk/bitesize/guides/z8k9v9q/revision/',9)"
   ]
  },
  {
   "cell_type": "code",
   "execution_count": 50,
   "id": "3499f5f8-ee40-442d-b4ad-de1b570d7259",
   "metadata": {},
   "outputs": [],
   "source": [
    "#Practical skills for carrying out a scientific investigation\n",
    "write_to_csv('https://www.bbc.co.uk/bitesize/guides/z4nxh39/revision/',6)"
   ]
  },
  {
   "cell_type": "code",
   "execution_count": null,
   "id": "a3dc2f83-e572-4011-ad97-954c5a335bba",
   "metadata": {},
   "outputs": [],
   "source": []
  }
 ],
 "metadata": {
  "kernelspec": {
   "display_name": "LaDKernel",
   "language": "python",
   "name": "ladkernel"
  },
  "language_info": {
   "codemirror_mode": {
    "name": "ipython",
    "version": 3
   },
   "file_extension": ".py",
   "mimetype": "text/x-python",
   "name": "python",
   "nbconvert_exporter": "python",
   "pygments_lexer": "ipython3",
   "version": "3.8.8"
  }
 },
 "nbformat": 4,
 "nbformat_minor": 5
}
